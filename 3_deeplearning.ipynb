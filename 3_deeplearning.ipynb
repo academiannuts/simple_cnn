{
 "cells": [
  {
   "cell_type": "markdown",
   "metadata": {},
   "source": [
    "[![Open In Colab](https://colab.research.google.com/assets/colab-badge.svg)](https://colab.research.google.com/github/academiannuts/simple_cnn/blob/main/3_deepleaning.ipynb)"
   ]
  },
  {
   "cell_type": "code",
   "execution_count": null,
   "metadata": {
    "colab": {
     "base_uri": "https://localhost:8080/"
    },
    "executionInfo": {
     "elapsed": 102612,
     "status": "ok",
     "timestamp": 1639732884945,
     "user": {
      "displayName": "大妻花子",
      "photoUrl": "https://lh3.googleusercontent.com/a/default-user=s64",
      "userId": "12074782437705267444"
     },
     "user_tz": -540
    },
    "id": "uJTCfu_4r5J4",
    "outputId": "dbc68262-fb08-4c91-acc0-f3b3835a4e27"
   },
   "outputs": [],
   "source": [
    "# 必要に応じてinstallする\n",
    "#!pip install tensorflow\n",
    "#!pip install tensorflow-gpu\n",
    "#!pip install keras\n",
    "#!pip install h5py"
   ]
  },
  {
   "cell_type": "markdown",
   "metadata": {},
   "source": [
    "# 概要\n",
    "2_make_dat.ipynbで作成したnumpy配列を用いてCNNで学習済みモデルを作成する"
   ]
  },
  {
   "cell_type": "code",
   "execution_count": null,
   "metadata": {},
   "outputs": [],
   "source": [
    "# config\n",
    "local_mode = True # local_PC作業時 True, Google_Colab作業時 False\n",
    "img_size   = 50   # 画像サイズ \n",
    "epochs_num = 1    # 学習回数"
   ]
  },
  {
   "cell_type": "code",
   "execution_count": null,
   "metadata": {},
   "outputs": [],
   "source": [
    "# module_import\n",
    "import tensorflow as tf\n",
    "import numpy as np\n",
    "import csv\n",
    "from keras.utils import np_utils\n",
    "import os\n",
    "from keras.models import Sequential\n",
    "from keras.layers import Dense, Dropout, Flatten\n",
    "from keras.layers import Conv2D, MaxPooling2D, Activation\n",
    "from tensorflow.keras.optimizers import Adam\n",
    "from tensorflow.keras.callbacks import TensorBoard\n",
    "import time"
   ]
  },
  {
   "cell_type": "code",
   "execution_count": null,
   "metadata": {},
   "outputs": [],
   "source": [
    "# Diretory_Setting:\n",
    "if local_mode:\n",
    "    base_path = './'\n",
    "else:\n",
    "    from google.colab import drive\n",
    "    drive.mount('/content/drive')\n",
    "    base_path = '/content/drive/MyDrive/Colab Notebooks/project/'"
   ]
  },
  {
   "cell_type": "code",
   "execution_count": null,
   "metadata": {
    "colab": {
     "base_uri": "https://localhost:8080/",
     "height": 488
    },
    "executionInfo": {
     "elapsed": 2973,
     "status": "ok",
     "timestamp": 1639732917558,
     "user": {
      "displayName": "大妻花子",
      "photoUrl": "https://lh3.googleusercontent.com/a/default-user=s64",
      "userId": "12074782437705267444"
     },
     "user_tz": -540
    },
    "id": "zBSF8qqkEIJo",
    "outputId": "1fdc4878-3231-410e-c875-9fedeaf21cd7"
   },
   "outputs": [],
   "source": [
    "# GPU利用可能か確認（for Google_Colab）\n",
    "tf.test.gpu_device_name()"
   ]
  },
  {
   "cell_type": "code",
   "execution_count": null,
   "metadata": {},
   "outputs": [],
   "source": [
    "# class_list.csvを読み込み\n",
    "with open(base_path + 'class_list.csv') as f:\n",
    "    class_list = csv.reader(f)\n",
    "    classes = []\n",
    "    for c in class_list:\n",
    "        classes.append(c[0])\n",
    "print(classes)     # クラス確認用\n",
    "num_classes = len(classes)\n",
    "print(num_classes) # クラス数確認用"
   ]
  },
  {
   "cell_type": "code",
   "execution_count": null,
   "metadata": {
    "executionInfo": {
     "elapsed": 3350,
     "status": "ok",
     "timestamp": 1639732951405,
     "user": {
      "displayName": "大妻花子",
      "photoUrl": "https://lh3.googleusercontent.com/a/default-user=s64",
      "userId": "12074782437705267444"
     },
     "user_tz": -540
    },
    "id": "hnJ4Sr7ssBoq"
   },
   "outputs": [],
   "source": [
    "# 訓練データの読み込み\n",
    "x_train,x_test,y_train,y_test = np.load(base_path+'train_datas.npy', mmap_mode=None, allow_pickle=True , fix_imports=True, encoding='ASCII')\n",
    "x_train = x_train.astype('float32')\n",
    "x_test = x_test.astype('float32')\n",
    "x_train /= 255\n",
    "x_test /= 25\n",
    "y_train = np_utils.to_categorical(y_train, num_classes)\n",
    "y_test = np_utils.to_categorical(y_test, num_classes)"
   ]
  },
  {
   "cell_type": "code",
   "execution_count": null,
   "metadata": {
    "colab": {
     "base_uri": "https://localhost:8080/"
    },
    "executionInfo": {
     "elapsed": 1037,
     "status": "ok",
     "timestamp": 1639732964230,
     "user": {
      "displayName": "大妻花子",
      "photoUrl": "https://lh3.googleusercontent.com/a/default-user=s64",
      "userId": "12074782437705267444"
     },
     "user_tz": -540
    },
    "id": "oWlCK2ZMso8y",
    "outputId": "003c3ab4-a766-421b-e96c-cb46f05b9156"
   },
   "outputs": [],
   "source": [
    "# TensorBoard設定\n",
    "log_dir = base_path + 'log/'\n",
    "os.makedirs(log_dir, exist_ok=True)  \n",
    "tensorboard_callback = TensorBoard(log_dir, histogram_freq=1)\n",
    "\n",
    "# モデル定義\n",
    "model = Sequential()\n",
    "model.add(Conv2D(img_size, (3, 3), padding='same',\n",
    "          input_shape=(img_size, img_size, 3)))    #畳み込み　①\n",
    "model.add(Activation('relu'))\n",
    "model.add(Conv2D(32, (3, 3)))                      #畳み込み　②\n",
    "model.add(Activation('relu'))\n",
    "model.add(MaxPooling2D(pool_size=(2, 2)))          #プーリング\n",
    "model.add(Conv2D(64, (3, 3)))                      #畳み込み　③\n",
    "model.add(Activation('relu'))\n",
    "model.add(MaxPooling2D(pool_size=(2, 2)))          #プーリング\n",
    "model.add(Dropout(0.25))                                 \n",
    "model.add(Flatten())\n",
    "model.add(Dense(128, activation='relu'))\n",
    "model.add(Dropout(0.25))                                 \n",
    "model.add(Dense(num_classes, activation='softmax'))\n",
    "\n",
    "model.compile(loss='categorical_crossentropy',\n",
    "              optimizer=Adam(),\n",
    "              metrics=['accuracy'])"
   ]
  },
  {
   "cell_type": "code",
   "execution_count": null,
   "metadata": {
    "colab": {
     "base_uri": "https://localhost:8080/"
    },
    "executionInfo": {
     "elapsed": 68492,
     "status": "ok",
     "timestamp": 1639733037850,
     "user": {
      "displayName": "大妻花子",
      "photoUrl": "https://lh3.googleusercontent.com/a/default-user=s64",
      "userId": "12074782437705267444"
     },
     "user_tz": -540
    },
    "id": "p7ndGg-TswEF",
    "outputId": "a09bb5a9-6d80-44b3-a8aa-8341212ceace"
   },
   "outputs": [],
   "source": [
    "# 時間計測\n",
    "startTime = time.time()\n",
    "# 学習\n",
    "model.summary()\n",
    "history = model.fit(x_train, y_train, batch_size=3000, epochs=epochs_num,\n",
    "                    verbose=1, validation_data=(x_test, y_test), callbacks=[tensorboard_callback])\n",
    "score = model.evaluate(x_test, y_test, verbose=0)\n",
    "# 出力\n",
    "print('loss:', score[0])\n",
    "print('accuracy:', score[1])\n",
    "print(\"Computation time:{0:.3f} sec\".format(time.time() - startTime))\n",
    "#学習済のモデルを保存\n",
    "model.save(base_path+'trained_model.h5')"
   ]
  },
  {
   "cell_type": "code",
   "execution_count": null,
   "metadata": {},
   "outputs": [],
   "source": [
    "%load_ext tensorboard"
   ]
  },
  {
   "cell_type": "code",
   "execution_count": null,
   "metadata": {},
   "outputs": [],
   "source": [
    "%tensorboard --logdir $log_dir"
   ]
  }
 ],
 "metadata": {
  "accelerator": "GPU",
  "colab": {
   "collapsed_sections": [],
   "name": "deepleaning.ipynb",
   "provenance": []
  },
  "kernelspec": {
   "display_name": "Python 3 (ipykernel)",
   "language": "python",
   "name": "python3"
  },
  "language_info": {
   "codemirror_mode": {
    "name": "ipython",
    "version": 3
   },
   "file_extension": ".py",
   "mimetype": "text/x-python",
   "name": "python",
   "nbconvert_exporter": "python",
   "pygments_lexer": "ipython3",
   "version": "3.9.10"
  }
 },
 "nbformat": 4,
 "nbformat_minor": 4
}
