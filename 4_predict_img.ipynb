{
 "cells": [
  {
   "cell_type": "code",
   "execution_count": null,
   "metadata": {
    "colab": {
     "base_uri": "https://localhost:8080/"
    },
    "executionInfo": {
     "elapsed": 92749,
     "status": "ok",
     "timestamp": 1634957955902,
     "user": {
      "displayName": "Tsuka Yumi",
      "photoUrl": "https://lh3.googleusercontent.com/a/default-user=s64",
      "userId": "04995987829149838038"
     },
     "user_tz": -540
    },
    "id": "iZGvv7d3GEVi",
    "outputId": "bf8c32cf-62c8-4ba8-c478-c87c588d98c6"
   },
   "outputs": [],
   "source": [
    "# 必要に応じてinstallする\n",
    "#!pip install tensorflow\n",
    "#!pip install tensorflow-gpu\n",
    "#!pip install keras\n",
    "#!pip install h5py"
   ]
  },
  {
   "cell_type": "markdown",
   "metadata": {
    "tags": []
   },
   "source": [
    "# 概要\n",
    "3_deeplearning.ipynbで作成した学習済みモデルを用いて静止画のクラス分類を行う"
   ]
  },
  {
   "cell_type": "code",
   "execution_count": null,
   "metadata": {},
   "outputs": [],
   "source": [
    "# config\n",
    "local_mode = True # local_PC作業時 True, Google_Colab作業時 False\n",
    "image_size = 50"
   ]
  },
  {
   "cell_type": "code",
   "execution_count": null,
   "metadata": {},
   "outputs": [],
   "source": [
    "# module_import\n",
    "import os\n",
    "import csv\n",
    "from keras.models import load_model\n",
    "import matplotlib.pyplot as plt\n",
    "from PIL import Image\n",
    "import numpy as np"
   ]
  },
  {
   "cell_type": "code",
   "execution_count": null,
   "metadata": {},
   "outputs": [],
   "source": [
    "# Diretory_Setting:\n",
    "if local_mode:\n",
    "    base_path = './'\n",
    "else:\n",
    "    from google.colab import drive\n",
    "    drive.mount('/content/drive')\n",
    "    base_path = '/content/drive/MyDrive/Colab Notebooks/project/'"
   ]
  },
  {
   "cell_type": "code",
   "execution_count": null,
   "metadata": {
    "colab": {
     "base_uri": "https://localhost:8080/"
    },
    "executionInfo": {
     "elapsed": 555,
     "status": "ok",
     "timestamp": 1634957985494,
     "user": {
      "displayName": "Tsuka Yumi",
      "photoUrl": "https://lh3.googleusercontent.com/a/default-user=s64",
      "userId": "04995987829149838038"
     },
     "user_tz": -540
    },
    "id": "3BER0Rl5DFl9",
    "outputId": "4b748add-0b42-46e3-bd53-d7d5ea0cbcb5"
   },
   "outputs": [],
   "source": [
    "# class_list.csvを読み込み\n",
    "with open(base_path + 'class_list.csv') as f:\n",
    "    class_list = csv.reader(f)\n",
    "    classes = []\n",
    "    for c in class_list:\n",
    "        classes.append(c[0])\n",
    "print(classes)     # クラス確認用\n",
    "num_classes = len(classes)\n",
    "print(num_classes) # クラス数確認用"
   ]
  },
  {
   "cell_type": "code",
   "execution_count": null,
   "metadata": {
    "executionInfo": {
     "elapsed": 222,
     "status": "ok",
     "timestamp": 1634958397031,
     "user": {
      "displayName": "Tsuka Yumi",
      "photoUrl": "https://lh3.googleusercontent.com/a/default-user=s64",
      "userId": "04995987829149838038"
     },
     "user_tz": -540
    },
    "id": "h1a9BDj5EJKh"
   },
   "outputs": [],
   "source": [
    "def predict():\n",
    "    print('ファイル名を入れてください')\n",
    "    filename = input('>>')\n",
    "    file_path = base_path + 'img_input/' + filename\n",
    "    image = Image.open(file_path)\n",
    "    plt.imshow(image)\n",
    "    image = image.convert('RGB')\n",
    "    image = image.resize((image_size, image_size))\n",
    "    data = np.asarray(image)/255\n",
    "    X = []\n",
    "    X.append(data)\n",
    "    X = np.array(X)\n",
    "    model = load_model(base_path + 'trained_model.h5')\n",
    "    result = model.predict([X])[0]\n",
    "    predicted = result.argmax()\n",
    "    percentage = int(result[predicted] * 100)\n",
    "    print(\"{0} ({1} %)\".format(classes[predicted], percentage))"
   ]
  },
  {
   "cell_type": "code",
   "execution_count": null,
   "metadata": {
    "colab": {
     "base_uri": "https://localhost:8080/",
     "height": 321
    },
    "executionInfo": {
     "elapsed": 11314,
     "status": "ok",
     "timestamp": 1634959216446,
     "user": {
      "displayName": "Tsuka Yumi",
      "photoUrl": "https://lh3.googleusercontent.com/a/default-user=s64",
      "userId": "04995987829149838038"
     },
     "user_tz": -540
    },
    "id": "3dM4-1ZkOGC7",
    "outputId": "1ff73061-8f9a-48b7-9781-6342364f3254"
   },
   "outputs": [],
   "source": [
    "predict() "
   ]
  }
 ],
 "metadata": {
  "accelerator": "GPU",
  "colab": {
   "name": "cnn.ipynb",
   "provenance": [],
   "toc_visible": true
  },
  "kernelspec": {
   "display_name": "Python 3 (ipykernel)",
   "language": "python",
   "name": "python3"
  },
  "language_info": {
   "codemirror_mode": {
    "name": "ipython",
    "version": 3
   },
   "file_extension": ".py",
   "mimetype": "text/x-python",
   "name": "python",
   "nbconvert_exporter": "python",
   "pygments_lexer": "ipython3",
   "version": "3.9.10"
  }
 },
 "nbformat": 4,
 "nbformat_minor": 4
}
