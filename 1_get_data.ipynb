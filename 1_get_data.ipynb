{
 "cells": [
  {
   "cell_type": "markdown",
   "metadata": {},
   "source": [
    "[![Open In Colab](https://colab.research.google.com/assets/colab-badge.svg)](https://colab.research.google.com/github/academiannuts/simple_cnn/blob/main/1_get_data.ipynb)"
   ]
  },
  {
   "cell_type": "code",
   "execution_count": null,
   "metadata": {
    "tags": []
   },
   "outputs": [],
   "source": [
    "# 必要に応じてinstallする\n",
    "#!pip install icrawler"
   ]
  },
  {
   "cell_type": "markdown",
   "metadata": {
    "tags": []
   },
   "source": [
    "# 概要\n",
    "class_list.csvで定義したリストの画像を、指定枚数分、クローラーで収集する"
   ]
  },
  {
   "cell_type": "code",
   "execution_count": null,
   "metadata": {},
   "outputs": [],
   "source": [
    "# config\n",
    "local_mode = True # local_PC作業時 True, Google_Colab作業時 False\n",
    "num        = 500  # 検索回数"
   ]
  },
  {
   "cell_type": "code",
   "execution_count": null,
   "metadata": {},
   "outputs": [],
   "source": [
    "# module_import\n",
    "import csv\n",
    "import os"
   ]
  },
  {
   "cell_type": "code",
   "execution_count": null,
   "metadata": {},
   "outputs": [],
   "source": [
    "# Diretory_Setting:\n",
    "if local_mode:\n",
    "    base_path = './'\n",
    "else:\n",
    "    from google.colab import drive\n",
    "    drive.mount('/content/drive')\n",
    "    base_path = '/content/drive/MyDrive/Colab Notebooks/project/'"
   ]
  },
  {
   "cell_type": "code",
   "execution_count": null,
   "metadata": {},
   "outputs": [],
   "source": [
    "# class_list.csvを読み込み\n",
    "with open(base_path + 'class_list.csv') as f:\n",
    "    class_list = csv.reader(f)\n",
    "    classes = []\n",
    "    for c in class_list:\n",
    "        classes.append(c[0])\n",
    "print(classes) # クラス確認用"
   ]
  },
  {
   "cell_type": "code",
   "execution_count": null,
   "metadata": {
    "colab": {
     "base_uri": "https://localhost:8080/"
    },
    "executionInfo": {
     "elapsed": 729697,
     "status": "ok",
     "timestamp": 1639718198365,
     "user": {
      "displayName": "大妻花子",
      "photoUrl": "https://lh3.googleusercontent.com/a/default-user=s64",
      "userId": "12074782437705267444"
     },
     "user_tz": -540
    },
    "id": "4yjSKFPuZJph",
    "outputId": "5ace49e6-126a-4b08-f3eb-310a12fac682",
    "tags": []
   },
   "outputs": [],
   "source": [
    "# classesに記載されたキーワードからスクレイピングで画像を取得\n",
    "for kw in classes:\n",
    "    output_path = base_path + 'img/' + kw\n",
    "    os.makedirs(output_path, exist_ok=True)  \n",
    "    if local_mode:\n",
    "        from icrawler.builtin import BingImageCrawler\n",
    "        crawler = BingImageCrawler(storage={\"root_dir\": output_path})\n",
    "    else:\n",
    "        from icrawler.builtin import GoogleImageCrawler\n",
    "        crawler = GoogleImageCrawler(storage={\"root_dir\": output_path})    \n",
    "    crawler.crawl(keyword=kw, max_num=num)"
   ]
  }
 ],
 "metadata": {
  "accelerator": "GPU",
  "colab": {
   "collapsed_sections": [],
   "name": "get_data2 (2).ipynb",
   "provenance": []
  },
  "kernelspec": {
   "display_name": "Python 3 (ipykernel)",
   "language": "python",
   "name": "python3"
  },
  "language_info": {
   "codemirror_mode": {
    "name": "ipython",
    "version": 3
   },
   "file_extension": ".py",
   "mimetype": "text/x-python",
   "name": "python",
   "nbconvert_exporter": "python",
   "pygments_lexer": "ipython3",
   "version": "3.9.10"
  }
 },
 "nbformat": 4,
 "nbformat_minor": 4
}
