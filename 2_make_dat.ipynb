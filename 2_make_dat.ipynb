{
 "cells": [
  {
   "cell_type": "markdown",
   "metadata": {},
   "source": [
    "# 概要\n",
    "1_get_data.ipynbで収集した画像をnumpy配列に書き換える"
   ]
  },
  {
   "cell_type": "code",
   "execution_count": null,
   "metadata": {},
   "outputs": [],
   "source": [
    "# config\n",
    "local_mode = True # local_PC作業時 True, Google_Colab作業時 False\n",
    "img_size   = 50   # 画像サイズ"
   ]
  },
  {
   "cell_type": "code",
   "execution_count": null,
   "metadata": {},
   "outputs": [],
   "source": [
    "# module_import\n",
    "import csv\n",
    "import glob\n",
    "from PIL import Image\n",
    "import numpy as np\n",
    "from sklearn.model_selection import train_test_split"
   ]
  },
  {
   "cell_type": "code",
   "execution_count": null,
   "metadata": {},
   "outputs": [],
   "source": [
    "# Diretory_Setting:\n",
    "if local_mode:\n",
    "    base_path = './'\n",
    "else:\n",
    "    from google.colab import drive\n",
    "    drive.mount('/content/drive')\n",
    "    base_path = '/content/drive/MyDrive/Colab Notebooks/project/'"
   ]
  },
  {
   "cell_type": "code",
   "execution_count": null,
   "metadata": {},
   "outputs": [],
   "source": [
    "# class_list.csvを読み込み\n",
    "with open(base_path + 'class_list.csv') as f:\n",
    "    class_list = csv.reader(f)\n",
    "    classes = []\n",
    "    for c in class_list:\n",
    "        classes.append(c[0])\n",
    "print(classes)     # クラス確認用\n",
    "num_classes = len(classes)\n",
    "print(num_classes) # クラス数確認用"
   ]
  },
  {
   "cell_type": "code",
   "execution_count": null,
   "metadata": {
    "executionInfo": {
     "elapsed": 5297,
     "status": "ok",
     "timestamp": 1639732742117,
     "user": {
      "displayName": "大妻花子",
      "photoUrl": "https://lh3.googleusercontent.com/a/default-user=s64",
      "userId": "12074782437705267444"
     },
     "user_tz": -540
    },
    "id": "9QUsBsaVrJ-9",
    "tags": []
   },
   "outputs": [],
   "source": [
    "# 画像フォルダ名\n",
    "img_base_dir = 'img/'\n",
    "train_data_path = base_path + img_base_dir\n",
    "\n",
    "# フォルダ毎に画像データを読み込みNumpy形式に変換\n",
    "X = []\n",
    "Y = []\n",
    "for idx, kw in enumerate(classes):\n",
    "    print(idx, kw)\n",
    "    img_dir = train_data_path + kw\n",
    "    files = glob.glob(img_dir+'/*')\n",
    "    for f in files:\n",
    "        #print(f)\n",
    "        img = Image.open(f)\n",
    "        img = img.convert('RGB')              #RGBモードに変更\n",
    "        img = img.resize((img_size,img_size)) #img_size*img_sizeにリサイズ\n",
    "        img_np = np.asarray(img)\n",
    "        X.append(img_np)\n",
    "        Y.append(idx)\n",
    "X = np.array(X) # 画像\n",
    "Y = np.array(Y) # 画像に対応するラベル"
   ]
  },
  {
   "cell_type": "code",
   "execution_count": null,
   "metadata": {
    "id": "C4f006GOrL02"
   },
   "outputs": [],
   "source": [
    "try:\n",
    "    X_train, X_test, y_train, y_test = train_test_split(X, Y, random_state=0) # 教師データX, Yを学習用データX_train, Y_trainと評価用データX_test, Y_testに分割\n",
    "    train_datas = (X_train, X_test, y_train, y_test)\n",
    "    np.save(base_path + 'train_datas.npy', train_datas)\n",
    "    print('img_size, img_size, color' ,X_train.shape[1:]) \n",
    "    print('#data', len(Y))\n",
    "    print('success')\n",
    "except:\n",
    "    print('failed')"
   ]
  }
 ],
 "metadata": {
  "colab": {
   "authorship_tag": "ABX9TyPh3E+WCmI/uAWTrhS5obdC",
   "name": "make_dat.ipynb",
   "provenance": []
  },
  "kernelspec": {
   "display_name": "Python 3 (ipykernel)",
   "language": "python",
   "name": "python3"
  },
  "language_info": {
   "codemirror_mode": {
    "name": "ipython",
    "version": 3
   },
   "file_extension": ".py",
   "mimetype": "text/x-python",
   "name": "python",
   "nbconvert_exporter": "python",
   "pygments_lexer": "ipython3",
   "version": "3.9.10"
  }
 },
 "nbformat": 4,
 "nbformat_minor": 4
}
